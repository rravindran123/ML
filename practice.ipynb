{
 "cells": [
  {
   "cell_type": "code",
   "execution_count": 4,
   "metadata": {},
   "outputs": [
    {
     "name": "stdout",
     "output_type": "stream",
     "text": [
      "False\n"
     ]
    }
   ],
   "source": [
    "def test_integer(choice):\n",
    "    \n",
    "    #define a range of accetable values for choice if it is a digit\n",
    "    acceptable_range = range(1,10)\n",
    "\n",
    "    # test if choice is a digit, if not return true of false\n",
    "    if choice.isdigit() and choice in acceptable_range:\n",
    "        return True\n",
    "    else: \n",
    "        return False\n",
    "\n",
    "value = input()\n",
    "print(test_integer(value))\n"
   ]
  },
  {
   "cell_type": "code",
   "execution_count": 11,
   "metadata": {},
   "outputs": [
    {
     "name": "stdout",
     "output_type": "stream",
     "text": [
      "(3, 3)\n",
      "[[1]\n",
      " [2]\n",
      " [3]\n",
      " [3]\n",
      " [4]\n",
      " [6]\n",
      " [5]\n",
      " [6]\n",
      " [7]]\n",
      "(3,)\n"
     ]
    }
   ],
   "source": [
    "import numpy as np\n",
    "\n",
    "x = np.array([[1,2,3], [3,4,6], [5,6,7]])\n",
    "\n",
    "print(x.shape)\n",
    "\n",
    "y= x.reshape(9,1)\n",
    "\n",
    "print(y)\n",
    "\n",
    "print(np.max(x, axis=0).shape)\n"
   ]
  },
  {
   "cell_type": "code",
   "execution_count": 37,
   "metadata": {},
   "outputs": [
    {
     "name": "stdout",
     "output_type": "stream",
     "text": [
      "[[[[0.89363163 0.14146887]\n",
      "   [0.79321655 0.56031234]\n",
      "   [0.01921367 0.58316988]\n",
      "   [0.75179686 0.85607503]]\n",
      "\n",
      "  [[0.82478064 0.48606956]\n",
      "   [0.80202194 0.66615207]\n",
      "   [0.19628443 0.18572193]\n",
      "   [0.48317316 0.80523843]]\n",
      "\n",
      "  [[0.81551075 0.10741258]\n",
      "   [0.88907329 0.81024124]\n",
      "   [0.84221674 0.84593472]\n",
      "   [0.98485882 0.6121467 ]]]\n",
      "\n",
      "\n",
      " [[[0.95969623 0.64090281]\n",
      "   [0.8176355  0.00130342]\n",
      "   [0.99101199 0.323639  ]\n",
      "   [0.39808656 0.78132698]]\n",
      "\n",
      "  [[0.70336652 0.9626807 ]\n",
      "   [0.31280192 0.63325288]\n",
      "   [0.63694023 0.1681196 ]\n",
      "   [0.15395964 0.28271181]]\n",
      "\n",
      "  [[0.73266024 0.3803239 ]\n",
      "   [0.68900504 0.58505696]\n",
      "   [0.74247439 0.17178971]\n",
      "   [0.48835997 0.49210994]]]]\n",
      "2\n",
      "\n",
      "\n"
     ]
    },
    {
     "ename": "IndexError",
     "evalue": "index 2 is out of bounds for axis 0 with size 2",
     "output_type": "error",
     "traceback": [
      "\u001b[0;31m---------------------------------------------------------------------------\u001b[0m",
      "\u001b[0;31mIndexError\u001b[0m                                Traceback (most recent call last)",
      "Cell \u001b[0;32mIn[37], line 5\u001b[0m\n\u001b[1;32m      3\u001b[0m \u001b[38;5;28mprint\u001b[39m(x\u001b[38;5;241m.\u001b[39mshape[\u001b[38;5;241m0\u001b[39m])\n\u001b[1;32m      4\u001b[0m \u001b[38;5;28mprint\u001b[39m(\u001b[38;5;124m\"\u001b[39m\u001b[38;5;130;01m\\n\u001b[39;00m\u001b[38;5;124m\"\u001b[39m)\n\u001b[0;32m----> 5\u001b[0m \u001b[38;5;28mprint\u001b[39m(\u001b[43mx\u001b[49m\u001b[43m[\u001b[49m\u001b[43mnp\u001b[49m\u001b[38;5;241;43m.\u001b[39;49m\u001b[43marray\u001b[49m\u001b[43m(\u001b[49m\u001b[43m[\u001b[49m\u001b[38;5;241;43m0\u001b[39;49m\u001b[43m,\u001b[49m\u001b[38;5;241;43m2\u001b[39;49m\u001b[43m]\u001b[49m\u001b[43m)\u001b[49m\u001b[43m,\u001b[49m\u001b[43m:\u001b[49m\u001b[43m]\u001b[49m)\n\u001b[1;32m      6\u001b[0m word\u001b[38;5;241m=\u001b[39m\u001b[38;5;124m\"\u001b[39m\u001b[38;5;124mTESTING\u001b[39m\u001b[38;5;124m\"\u001b[39m\n\u001b[1;32m      7\u001b[0m \u001b[38;5;28mprint\u001b[39m(\u001b[38;5;124mf\u001b[39m\u001b[38;5;124m'\u001b[39m\u001b[38;5;130;01m\\n\u001b[39;00m\u001b[38;5;124m this is the output \u001b[39m\u001b[38;5;132;01m{\u001b[39;00m\u001b[38;5;28mlen\u001b[39m(word)\u001b[38;5;132;01m}\u001b[39;00m\u001b[38;5;132;01m{\u001b[39;00mx[x\u001b[38;5;241m>\u001b[39m\u001b[38;5;241m0.5\u001b[39m]\u001b[38;5;132;01m}\u001b[39;00m\u001b[38;5;124m'\u001b[39m)\n",
      "\u001b[0;31mIndexError\u001b[0m: index 2 is out of bounds for axis 0 with size 2"
     ]
    }
   ],
   "source": [
    "\n",
    "x= np.random.random((2,3,4,2))\n",
    "print(x)\n",
    "print(x.shape[0])\n",
    "print(\"\\n\")\n",
    "print(x[np.array([0,2]),:])\n",
    "word=\"TESTING\"\n",
    "print(f'\\n this is the output {len(word)}{x[x>0.5]}')\n"
   ]
  },
  {
   "cell_type": "code",
   "execution_count": null,
   "metadata": {},
   "outputs": [],
   "source": []
  },
  {
   "cell_type": "code",
   "execution_count": 5,
   "metadata": {},
   "outputs": [],
   "source": [
    "import torch\n",
    "import torch.nn as nn\n",
    "\n",
    "# Import pprint, module we use for making our print statements prettier\n",
    "import pprint\n",
    "pp = pprint.PrettyPrinter()"
   ]
  },
  {
   "cell_type": "code",
   "execution_count": 35,
   "metadata": {},
   "outputs": [
    {
     "name": "stdout",
     "output_type": "stream",
     "text": [
      "tensor([[[ 1.,  2.],\n",
      "         [ 3.,  4.]],\n",
      "\n",
      "        [[ 5.,  6.],\n",
      "         [ 7.,  8.]],\n",
      "\n",
      "        [[ 9., 10.],\n",
      "         [11., 12.]]])\n",
      "torch.Size([3, 2, 2])\n"
     ]
    }
   ],
   "source": [
    "# Initializing a tensor\n",
    "data = torch.tensor([\n",
    "    [[1, 2], [3, 4]],\n",
    "    [[5, 6], [7, 8]],\n",
    "    [[9, 10], [11, 12]]\n",
    "], dtype=torch.float32)\n",
    "print(data)\n",
    "print(data.shape)"
   ]
  },
  {
   "cell_type": "code",
   "execution_count": 52,
   "metadata": {},
   "outputs": [
    {
     "name": "stdout",
     "output_type": "stream",
     "text": [
      "torch.Size([1])\n",
      "16\n"
     ]
    }
   ],
   "source": [
    "rr= torch.tensor([16])\n",
    "print(rr.shape)\n",
    "#rr2 = rr.view(5,3)\n",
    "#print(rr.shape)\n",
    "\n",
    "print(rr.item())"
   ]
  },
  {
   "cell_type": "code",
   "execution_count": 55,
   "metadata": {},
   "outputs": [
    {
     "name": "stdout",
     "output_type": "stream",
     "text": [
      "None\n",
      "tensor([12.])\n",
      "tensor([24.])\n"
     ]
    }
   ],
   "source": [
    "x = torch.tensor([2.], requires_grad=True)\n",
    "pp.pprint(x.grad)\n",
    "y = 3*x*x   \n",
    "y.backward()\n",
    "pp.pprint(x.grad)\n",
    "z = 3*x*x   \n",
    "z.backward()\n",
    "pp.pprint(x.grad)\n"
   ]
  },
  {
   "cell_type": "code",
   "execution_count": 59,
   "metadata": {},
   "outputs": [
    {
     "name": "stdout",
     "output_type": "stream",
     "text": [
      "tensor([[[1., 1., 1., 1.],\n",
      "         [1., 1., 1., 1.],\n",
      "         [1., 1., 1., 1.]],\n",
      "\n",
      "        [[1., 1., 1., 1.],\n",
      "         [1., 1., 1., 1.],\n",
      "         [1., 1., 1., 1.]]])\n"
     ]
    },
    {
     "data": {
      "text/plain": [
       "[Parameter containing:\n",
       " tensor([[ 0.3514, -0.0921,  0.3084,  0.3070],\n",
       "         [-0.3479,  0.4746,  0.3020, -0.4017]], requires_grad=True),\n",
       " Parameter containing:\n",
       " tensor([ 0.3308, -0.1603], requires_grad=True)]"
      ]
     },
     "execution_count": 59,
     "metadata": {},
     "output_type": "execute_result"
    }
   ],
   "source": [
    "input = torch.ones(2,3,4)\n",
    "\n",
    "print(input)\n",
    "\n",
    "linear = nn.Linear(4,2)\n",
    "linear_output = linear(input)\n",
    "linear_output\n",
    "list(linear.parameters())\n"
   ]
  },
  {
   "cell_type": "code",
   "execution_count": 13,
   "metadata": {},
   "outputs": [
    {
     "name": "stdout",
     "output_type": "stream",
     "text": [
      "tensor([[1., 1., 1., 1., 1.],\n",
      "        [1., 1., 1., 1., 1.],\n",
      "        [1., 1., 1., 1., 1.],\n",
      "        [1., 1., 1., 1., 1.],\n",
      "        [1., 1., 1., 1., 1.],\n",
      "        [1., 1., 1., 1., 1.],\n",
      "        [1., 1., 1., 1., 1.],\n",
      "        [1., 1., 1., 1., 1.],\n",
      "        [1., 1., 1., 1., 1.],\n",
      "        [1., 1., 1., 1., 1.]])\n",
      "tensor([[ 2.5386,  0.3720,  0.8080,  2.2315,  2.2173],\n",
      "        [ 0.5254,  0.5200,  1.1990,  0.2258,  0.7801],\n",
      "        [ 1.6315,  1.1922,  0.6696,  0.3410,  2.5788],\n",
      "        [-1.2737,  0.6471,  0.0596,  1.2637,  1.1105],\n",
      "        [ 0.2844,  1.0774,  0.4187,  0.1808,  1.0775],\n",
      "        [ 1.2208,  1.6134,  1.8308,  0.6819, -0.6802],\n",
      "        [-1.3595,  0.8308,  0.8863,  0.0514,  0.2754],\n",
      "        [ 0.2735,  0.7549,  1.0603,  2.1468,  1.8559],\n",
      "        [-1.1103, -0.7416,  4.0320,  3.8837,  0.9579],\n",
      "        [ 1.5037,  0.8746,  0.4616,  1.9652,  0.4057]])\n",
      "Epoch 0: training loss : 0.6293399333953857\n",
      "Epoch 1: training loss : 0.572699785232544\n",
      "Epoch 2: training loss : 0.5066803097724915\n",
      "Epoch 3: training loss : 0.41958731412887573\n",
      "Epoch 4: training loss : 0.3247668445110321\n",
      "Epoch 5: training loss : 0.23466750979423523\n",
      "Epoch 6: training loss : 0.1585467904806137\n",
      "Epoch 7: training loss : 0.10314518958330154\n",
      "Epoch 8: training loss : 0.06561523675918579\n",
      "Epoch 9: training loss : 0.04108404740691185\n"
     ]
    },
    {
     "ename": "AttributeError",
     "evalue": "type object 'list' has no attribute 'model'",
     "output_type": "error",
     "traceback": [
      "\u001b[0;31m---------------------------------------------------------------------------\u001b[0m",
      "\u001b[0;31mAttributeError\u001b[0m                            Traceback (most recent call last)",
      "Cell \u001b[0;32mIn[13], line 60\u001b[0m\n\u001b[1;32m     56\u001b[0m     loss\u001b[38;5;241m.\u001b[39mbackward()\n\u001b[1;32m     58\u001b[0m     adam\u001b[38;5;241m.\u001b[39mstep()\n\u001b[0;32m---> 60\u001b[0m \u001b[38;5;28;43mlist\u001b[39;49m\u001b[38;5;241;43m.\u001b[39;49m\u001b[43mmodel\u001b[49m\u001b[38;5;241m.\u001b[39mparameters()\n",
      "\u001b[0;31mAttributeError\u001b[0m: type object 'list' has no attribute 'model'"
     ]
    }
   ],
   "source": [
    "import torch\n",
    "import torch.nn as nn\n",
    "import torch.optim as optim\n",
    "\n",
    "class MultiLayerPerceptron(nn.Module):\n",
    "    \n",
    "    def  __init__(self, input_size, hidden_size):\n",
    "        super(MultiLayerPerceptron, self).__init__()\n",
    "\n",
    "        self.input_size  = input_size\n",
    "        self.hidden_size = hidden_size\n",
    "\n",
    "        self.model = nn.Sequential(\n",
    "            nn.Linear(self.input_size, self.hidden_size),\n",
    "            nn.ReLU(),\n",
    "            nn.Linear(self.hidden_size, self.input_size),\n",
    "            nn.Sigmoid()\n",
    "        )\n",
    "\n",
    "    def forward(self, x):\n",
    "        output = self.model(x)\n",
    "        return output\n",
    "\n",
    "input = torch.randn(2,5)\n",
    "\n",
    "model = MultiLayerPerceptron(5,3)\n",
    "model(input)\n",
    "\n",
    "list(model.named_parameters())\n",
    "\n",
    "y= torch.ones(10,5)\n",
    "print(y)\n",
    "x= y + torch.randn_like(y)\n",
    "print(x)\n",
    "\n",
    "#optimizer\n",
    "adam = optim.Adam(model.parameters(), lr=1e-1)\n",
    "\n",
    "loss_function = nn.BCELoss()\n",
    "\n",
    "y_pred = model(x)\n",
    "loss_function(y_pred, y).item()\n",
    "\n",
    "n_epoch =10\n",
    "\n",
    "for epoch in range(n_epoch):\n",
    "\n",
    "    adam.zero_grad()\n",
    "\n",
    "    y_pred =  model(x)\n",
    "\n",
    "    loss = loss_function(y_pred, y)\n",
    "\n",
    "    print(f\"Epoch {epoch}: training loss : {loss}\")\n",
    "\n",
    "    loss.backward()\n",
    "\n",
    "    adam.step()\n",
    "\n",
    "list(model.parameters())\n",
    "\n"
   ]
  },
  {
   "cell_type": "code",
   "execution_count": 5,
   "metadata": {},
   "outputs": [
    {
     "ename": "RuntimeError",
     "evalue": "asyncio.run() cannot be called from a running event loop",
     "output_type": "error",
     "traceback": [
      "\u001b[0;31m---------------------------------------------------------------------------\u001b[0m",
      "\u001b[0;31mRuntimeError\u001b[0m                              Traceback (most recent call last)",
      "Cell \u001b[0;32mIn[5], line 17\u001b[0m\n\u001b[1;32m     14\u001b[0m     \u001b[38;5;28mprint\u001b[39m(\u001b[38;5;124mf\u001b[39m\u001b[38;5;124m\"\u001b[39m\u001b[38;5;124mReceived result: \u001b[39m\u001b[38;5;132;01m{\u001b[39;00mresult\u001b[38;5;132;01m}\u001b[39;00m\u001b[38;5;124m\"\u001b[39m)\n\u001b[1;32m     15\u001b[0m     \u001b[38;5;28mprint\u001b[39m(\u001b[38;5;124m\"\u001b[39m\u001b[38;5;124mEnd of main coroutine\u001b[39m\u001b[38;5;124m\"\u001b[39m)\n\u001b[0;32m---> 17\u001b[0m \u001b[43masyncio\u001b[49m\u001b[38;5;241;43m.\u001b[39;49m\u001b[43mrun\u001b[49m\u001b[43m(\u001b[49m\u001b[43mmain\u001b[49m\u001b[43m(\u001b[49m\u001b[43m)\u001b[49m\u001b[43m)\u001b[49m\n",
      "File \u001b[0;32m~/.pyenv/versions/3.10.5/lib/python3.10/asyncio/runners.py:33\u001b[0m, in \u001b[0;36mrun\u001b[0;34m(main, debug)\u001b[0m\n\u001b[1;32m      9\u001b[0m \u001b[38;5;250m\u001b[39m\u001b[38;5;124;03m\"\"\"Execute the coroutine and return the result.\u001b[39;00m\n\u001b[1;32m     10\u001b[0m \n\u001b[1;32m     11\u001b[0m \u001b[38;5;124;03mThis function runs the passed coroutine, taking care of\u001b[39;00m\n\u001b[0;32m   (...)\u001b[0m\n\u001b[1;32m     30\u001b[0m \u001b[38;5;124;03m    asyncio.run(main())\u001b[39;00m\n\u001b[1;32m     31\u001b[0m \u001b[38;5;124;03m\"\"\"\u001b[39;00m\n\u001b[1;32m     32\u001b[0m \u001b[38;5;28;01mif\u001b[39;00m events\u001b[38;5;241m.\u001b[39m_get_running_loop() \u001b[38;5;129;01mis\u001b[39;00m \u001b[38;5;129;01mnot\u001b[39;00m \u001b[38;5;28;01mNone\u001b[39;00m:\n\u001b[0;32m---> 33\u001b[0m     \u001b[38;5;28;01mraise\u001b[39;00m \u001b[38;5;167;01mRuntimeError\u001b[39;00m(\n\u001b[1;32m     34\u001b[0m         \u001b[38;5;124m\"\u001b[39m\u001b[38;5;124masyncio.run() cannot be called from a running event loop\u001b[39m\u001b[38;5;124m\"\u001b[39m)\n\u001b[1;32m     36\u001b[0m \u001b[38;5;28;01mif\u001b[39;00m \u001b[38;5;129;01mnot\u001b[39;00m coroutines\u001b[38;5;241m.\u001b[39miscoroutine(main):\n\u001b[1;32m     37\u001b[0m     \u001b[38;5;28;01mraise\u001b[39;00m \u001b[38;5;167;01mValueError\u001b[39;00m(\u001b[38;5;124m\"\u001b[39m\u001b[38;5;124ma coroutine was expected, got \u001b[39m\u001b[38;5;132;01m{!r}\u001b[39;00m\u001b[38;5;124m\"\u001b[39m\u001b[38;5;241m.\u001b[39mformat(main))\n",
      "\u001b[0;31mRuntimeError\u001b[0m: asyncio.run() cannot be called from a running event loop"
     ]
    }
   ],
   "source": [
    "import asyncio\n",
    "\n",
    "\n",
    "async def fetch_data(delay):\n",
    "    print(\"fetching data..\")\n",
    "    await asyncio.sleep(delay)\n",
    "    print(\"data fetched\")\n",
    "    return {\"data\":\"Some data\"}\n",
    "\n",
    "async def main():\n",
    "    print   (\"Start the main routine\")\n",
    "    task = fetch_data(2)\n",
    "    result = await task\n",
    "    print(f\"Received result: {result}\")\n",
    "    print(\"End of main coroutine\")\n",
    "\n",
    "asyncio.run(main())\n",
    "\n",
    "\n",
    "\n"
   ]
  },
  {
   "cell_type": "code",
   "execution_count": 3,
   "metadata": {},
   "outputs": [
    {
     "name": "stdout",
     "output_type": "stream",
     "text": [
      "1\n",
      "2\n"
     ]
    },
    {
     "data": {
      "text/plain": [
       "__main__.testClass"
      ]
     },
     "execution_count": 3,
     "metadata": {},
     "output_type": "execute_result"
    }
   ],
   "source": [
    "import os\n",
    "\n",
    "\n",
    "class testClass:\n",
    "    def __init__(self, param1, param2):\n",
    "        self.param1 =  param1\n",
    "        self.param2 = param2\n",
    "\n",
    "    def some_method(self):\n",
    "        print(self.param1)\n",
    "        print(self.param2)\n",
    "\n",
    "test = testClass(1,2)\n",
    "test.some_method()\n",
    "type(test)"
   ]
  },
  {
   "cell_type": "code",
   "execution_count": 32,
   "metadata": {},
   "outputs": [
    {
     "name": "stdout",
     "output_type": "stream",
     "text": [
      "Initializing base class\n",
      "Initializing base class\n",
      "initialized derived\n",
      "from the derived class hi\n",
      "ravi 45\n",
      "meera 12\n",
      "anu 10\n",
      "ravi 45\n",
      "meera 12\n",
      "anu 10\n"
     ]
    }
   ],
   "source": [
    "class parentClass:\n",
    "    def __init__(self, name):\n",
    "        self.name=name\n",
    "        print(\"Initializing base class\")\n",
    "\n",
    "    # def func1(self):\n",
    "    #     raise NotImplementedError(\"subclass must implement this abstract method\")\n",
    "\n",
    "test = parentClass(\"test\")\n",
    "\n",
    "class derivedClass(parentClass):\n",
    "    def __init__(self,name):\n",
    "        parentClass.__init__(self, name)\n",
    "        print(\"initialized derived\")\n",
    "\n",
    "    def func1(self):\n",
    "        print(\"from the derived class\", self.name)\n",
    "     \n",
    "\n",
    "test2 = derivedClass(\"hi\")\n",
    "test2.func1()     \n",
    "        \n",
    "test_dict = {\"ravi\":45, \"meera\":12, \"anu\":10}\n",
    "\n",
    "list_1=[\"hi\", \"why\", \"are\", \"you\"]\n",
    "\n",
    "sorted(test_dict.items())\n",
    "\n",
    "for k, v in test_dict.items():\n",
    "    print(k, v)\n",
    "\n",
    "\n",
    "sorted(test_dict.items(), key=lambda item:item[0])\n",
    "\n",
    "for k, v in test_dict.items():\n",
    "    print(k, v)\n",
    "\n"
   ]
  },
  {
   "cell_type": "code",
   "execution_count": 36,
   "metadata": {},
   "outputs": [
    {
     "name": "stdout",
     "output_type": "stream",
     "text": [
      "(1, 2, 3, 4, 5, 6)\n",
      "TRUE\n",
      "1.4142135623730951\n"
     ]
    }
   ],
   "source": [
    "class line:\n",
    "    def __init__(self, cor1, cor2):\n",
    "        self.coordinate_1 = cor1\n",
    "        self.coordinate_2 = cor2\n",
    "\n",
    "    def distance(self):\n",
    "        x1,y1 = self.coordinate_1\n",
    "        x2,y2 = self.coordinate_2\n",
    "        dist = ((x1-x2)**2 + (y1-y2)**2)**0.5\n",
    "        return dist\n",
    "    \n",
    "        \n",
    "\n",
    "\n",
    "numbers = (1,2,3,4,5,6)\n",
    "print(numbers)\n",
    "\n",
    "test_num = 4\n",
    "\n",
    "if test_num in numbers:\n",
    "    print(\"TRUE\")\n",
    "else:\n",
    "    print(\"FALSE\")\n",
    "\n",
    "coordinate_1 = (3,4)\n",
    "coordinate_2= (4,5)\n",
    "\n",
    "line_1 = line(coordinate_1, coordinate_2)\n",
    "print(line_1.distance())\n",
    "\n"
   ]
  },
  {
   "cell_type": "code",
   "execution_count": 57,
   "metadata": {},
   "outputs": [
    {
     "name": "stdout",
     "output_type": "stream",
     "text": [
      "5\n",
      "[(array([ 0.9871204 ,  0.32783003,  0.30457754, -0.13104914,  0.60398582]), 5.477323901170576), (array([-0.09088398,  0.82279392, -1.64703015, -0.10021396, -0.61280305]), -6.143485213383823), (array([ 1.38000401, -1.27306051,  1.27770571,  1.4237993 ,  0.10737795]), 9.586924087470823), (array([ 0.17386484, -0.8676336 , -0.10774474,  0.00374315, -0.74511064]), -3.4740786206689513), (array([ 0.35288503, -0.90221697,  1.29358751, -0.42036975, -0.35538412]), -0.5860783036023254), (array([-0.60406304,  0.01033649,  1.24826129,  0.59594579, -0.36175412]), 3.592494199295074), (array([-0.17248016, -0.00179429, -0.14596867,  1.44138801,  0.27443067]), 5.72262112721763), (array([ 1.04293244,  0.34655641,  2.57228989, -1.69724753, -0.96720463]), -1.2965801883093442), (array([ 0.42577898, -1.27316715, -0.89379454,  0.38053348,  0.8247727 ]), -0.023048003076517554), (array([-0.33838368,  0.67897096,  1.0923408 , -0.12434183, -0.4828724 ]), 0.8889313719159078)]\n",
      "epoch :499, weights: [0.99666008 2.00686048 2.98946651 4.01459954 5.01250451], Loss: 0.9883433619744132, time: 28.17479395866394\n",
      "epoch :499, weights: [0.98984989 1.98269296 2.97442254 3.98356595 5.01640402], Loss: 0.04688018300617369, time: 41.90014624595642\n"
     ]
    }
   ],
   "source": [
    "import numpy as np\n",
    "import math, random\n",
    "import time\n",
    "\n",
    "trueW =  np.array([1, 2, 3,4,5])\n",
    "print(len(trueW))\n",
    "\n",
    "def generate():\n",
    "    x = np.random.randn(len(trueW))\n",
    "    y = trueW.dot(x) + np.random.randn()\n",
    "   # print(x, y)\n",
    "    return (x,y)\n",
    "\n",
    "training_data = [generate() for i in range(10000)]\n",
    "\n",
    "print(random.sample(training_data, 10))\n",
    "\n",
    "def phi(x):\n",
    "    return np.array(x)\n",
    "\n",
    "def stochastic_gradient_loss(w, i):\n",
    "    x, y = training_data[i]\n",
    "    return (x.dot(w)-y)**2\n",
    "\n",
    "def gradient_descent_loss(w):\n",
    "    sum =0.0\n",
    "    for i in range(len(training_data)):\n",
    "        x, y = training_data[i]\n",
    "        sum += (x.dot(w)-y)**2\n",
    "    return (1/len(training_data))* sum\n",
    "\n",
    "def stochastic_gradient(w, i):\n",
    "    x, y = training_data[i]\n",
    "    return 2*(x.dot(w)-y) * phi(x)\n",
    "\n",
    "def gradient_descent(w):\n",
    "    sum =0.0\n",
    "    for i in range(len(training_data)):\n",
    "        x, y = training_data[i]\n",
    "        sum += 2*(x.dot(w)-y) * phi(x)\n",
    "    return (1/len(training_data))* sum\n",
    "\n",
    "def gradientDescentAlgo(f, gradientLoss, weightVectors):\n",
    "    start_time = time.time()\n",
    "    learning_rate=0.1\n",
    "    numberIter=0\n",
    "    objectiveLoss =0\n",
    "    for epoch  in range(500):\n",
    "        numberIter+=1\n",
    "        objectiveLoss = f(weightVectors)\n",
    "        #learnign_rate = 1/math.sqrt(numberIter)\n",
    "        weightGradient = gradientLoss(weightVectors)\n",
    "        weightVectors = weightVectors - learnign_rate*weightGradient\n",
    "    \n",
    "    end_time= time.time()\n",
    "    print(f\"epoch :{epoch}, weights: {weightVectors}, Loss: {objectiveLoss}, time: {end_time-start_time}\")\n",
    "\n",
    "\n",
    "def stochasticGradientDescentAlgo(f, gradientLoss, weightVectors ):\n",
    "    start_time = time.time()\n",
    "    learning_rate=0\n",
    "    numberIter=0\n",
    "    objectiveLoss =0\n",
    "    for epoch  in range(500):\n",
    "        for i in range(len(training_data)):\n",
    "            numberIter+=1\n",
    "            objectiveLoss = f(weightVectors,i)\n",
    "            learnign_rate = 1/math.sqrt(numberIter)\n",
    "            weightGradient = gradientLoss(weightVectors, i )\n",
    "            weightVectors = weightVectors - learnign_rate*weightGradient\n",
    "    end_time= time.time()\n",
    "    print(f\"epoch :{epoch}, weights: {weightVectors}, Loss: {objectiveLoss}, time: {end_time-start_time}\")\n",
    "\n",
    "weightVec = np.array([0, 0, 0, 0 , 0])\n",
    "gradientDescentAlgo(gradient_descent_loss, gradient_descent, weightVec)\n",
    "stochasticGradientDescentAlgo(stochastic_gradient_loss, stochastic_gradient, weightVec)"
   ]
  },
  {
   "cell_type": "code",
   "execution_count": 75,
   "metadata": {},
   "outputs": [
    {
     "name": "stdout",
     "output_type": "stream",
     "text": [
      "Input tensor dim : torch.Size([3, 2])\n",
      "Out matrix dim is : torch.Size([3, 6])\n",
      "tensor([[ 1.3980, -1.1917,  1.1455, -1.3492,  1.7862,  1.7594],\n",
      "        [ 2.6715, -1.2988,  2.1572, -2.7651,  4.2068,  3.8771],\n",
      "        [ 3.9451, -1.4058,  3.1689, -4.1810,  6.6274,  5.9948]],\n",
      "       grad_fn=<AddmmBackward0>)\n",
      "Input tensor dim : torch.Size([3, 2])\n",
      "tensor([[1., 2.],\n",
      "        [3., 4.],\n",
      "        [5., 6.]])\n",
      "tensor([1, 2, 3, 4, 5, 6, 7, 8, 9])\n",
      "tensor([[1, 2, 3, 4, 5, 6, 7, 8, 9]]), torch.Size([1, 9])\n",
      "tensor([1, 2, 3, 4, 5, 6, 7, 8, 9]), torch.Size([9])\n"
     ]
    }
   ],
   "source": [
    "import torch\n",
    "\n",
    "tensor_A = torch.tensor([[1., 2.],\n",
    "        [3., 4.],\n",
    "        [5., 6.]], dtype=torch.float32)\n",
    "\n",
    "torch.manual_seed(44)\n",
    "\n",
    "linear = torch.nn.Linear(in_features=2, out_features=6)\n",
    "\n",
    "x= tensor_A\n",
    "output = linear(x)\n",
    "print(f\"Input tensor dim : {x.shape}\")\n",
    "print(f\"Out matrix dim is : {output.shape}\")\n",
    "print(output)\n",
    "\n",
    "x = x.squeeze(dim=1)\n",
    "print(f\"Input tensor dim : {x.shape}\")\n",
    "print(x)\n",
    "\n",
    "y = torch.arange(1, 10, 1)\n",
    "print(y)\n",
    "y= y.reshape(1,9)\n",
    "print(f\"{y}, {y.shape}\")\n",
    "y= y.squeeze()\n",
    "print(f\"{y}, {y.shape}\")\n",
    "\n",
    "\n",
    "\n"
   ]
  },
  {
   "cell_type": "code",
   "execution_count": 76,
   "metadata": {},
   "outputs": [
    {
     "name": "stdout",
     "output_type": "stream",
     "text": [
      "[1 2 3 4 5 6 7 8 9]\n",
      "tensor([1, 2, 3, 4, 5, 6, 7, 8, 9])\n"
     ]
    },
    {
     "data": {
      "text/plain": [
       "(array([ 2,  3,  4,  5,  6,  7,  8,  9, 10]),\n",
       " tensor([1, 2, 3, 4, 5, 6, 7, 8, 9]))"
      ]
     },
     "execution_count": 76,
     "metadata": {},
     "output_type": "execute_result"
    }
   ],
   "source": [
    "import numpy as np\n",
    "\n",
    "x = np.arange(1, 10, 1)\n",
    "print(x)\n",
    "tensor = torch.from_numpy(x)\n",
    "print(tensor)\n",
    "x = x +1\n",
    "x, tensor\n"
   ]
  },
  {
   "cell_type": "code",
   "execution_count": 78,
   "metadata": {},
   "outputs": [
    {
     "data": {
      "text/plain": [
       "tensor([[True, True, True, True],\n",
       "        [True, True, True, True],\n",
       "        [True, True, True, True]])"
      ]
     },
     "execution_count": 78,
     "metadata": {},
     "output_type": "execute_result"
    }
   ],
   "source": [
    "torch.manual_seed(100)\n",
    "\n",
    "tensor_1 = torch.randn(3,4)\n",
    "\n",
    "torch.manual_seed(100)\n",
    "tensor_2 = torch.randn(3,4)\n",
    "\n",
    "tensor_1 == tensor_2\n",
    "\n",
    "\n"
   ]
  },
  {
   "cell_type": "code",
   "execution_count": 84,
   "metadata": {},
   "outputs": [
    {
     "name": "stdout",
     "output_type": "stream",
     "text": [
      "zsh:1: command not found: nvidia-smi\n"
     ]
    },
    {
     "data": {
      "text/plain": [
       "'mps'"
      ]
     },
     "execution_count": 84,
     "metadata": {},
     "output_type": "execute_result"
    }
   ],
   "source": [
    "!nvidia-smi\n",
    "if torch.cuda.is_available():\n",
    "    device = \"cuda\" # Use NVIDIA GPU (if available)\n",
    "elif torch.backends.mps.is_available():\n",
    "    device = \"mps\" # Use Apple Silicon GPU (if available)\n",
    "else:\n",
    "    device = \"cpu\" # Default to CPU if no GPU is available\n",
    "\n",
    "device"
   ]
  },
  {
   "cell_type": "code",
   "execution_count": 89,
   "metadata": {},
   "outputs": [
    {
     "name": "stdout",
     "output_type": "stream",
     "text": [
      "tensor([1, 2, 3]) cpu\n",
      "tensor([1, 2, 3], device='mps:0') mps:0\n"
     ]
    },
    {
     "data": {
      "text/plain": [
       "array([1, 2, 3])"
      ]
     },
     "execution_count": 89,
     "metadata": {},
     "output_type": "execute_result"
    }
   ],
   "source": [
    "tensor = torch.tensor([1,2,3])\n",
    "\n",
    "print(tensor, tensor.device)\n",
    "\n",
    "tensor_on_gpu = tensor.to(device)\n",
    "print(tensor_on_gpu, tensor_on_gpu.device)\n",
    "\n",
    "tensor_on_cpu = tensor_on_gpu.cpu().numpy()\n",
    "tensor_on_cpu"
   ]
  },
  {
   "cell_type": "code",
   "execution_count": 2,
   "metadata": {},
   "outputs": [
    {
     "ename": "NameError",
     "evalue": "name 'torch' is not defined",
     "output_type": "error",
     "traceback": [
      "\u001b[0;31m---------------------------------------------------------------------------\u001b[0m",
      "\u001b[0;31mNameError\u001b[0m                                 Traceback (most recent call last)",
      "Cell \u001b[0;32mIn[2], line 41\u001b[0m\n\u001b[1;32m     38\u001b[0m     plt\u001b[38;5;241m.\u001b[39mlegend(prop\u001b[38;5;241m=\u001b[39m{\u001b[38;5;124m\"\u001b[39m\u001b[38;5;124msize\u001b[39m\u001b[38;5;124m\"\u001b[39m: \u001b[38;5;241m14\u001b[39m})\n\u001b[1;32m     39\u001b[0m     plt\u001b[38;5;241m.\u001b[39mshow()\n\u001b[0;32m---> 41\u001b[0m \u001b[38;5;28;01mclass\u001b[39;00m \u001b[38;5;21;01mTestLinearRegressionModel\u001b[39;00m(nn\u001b[38;5;241m.\u001b[39mModule):\n\u001b[1;32m     42\u001b[0m     \u001b[38;5;28;01mdef\u001b[39;00m \u001b[38;5;21m__init__\u001b[39m(\u001b[38;5;28mself\u001b[39m): \n\u001b[1;32m     43\u001b[0m         \u001b[38;5;28msuper\u001b[39m()\u001b[38;5;241m.\u001b[39m\u001b[38;5;21m__init__\u001b[39m()\n",
      "Cell \u001b[0;32mIn[2], line 48\u001b[0m, in \u001b[0;36mTestLinearRegressionModel\u001b[0;34m()\u001b[0m\n\u001b[1;32m     45\u001b[0m     \u001b[38;5;28mprint\u001b[39m(\u001b[38;5;124m\"\u001b[39m\u001b[38;5;124mSelf weights size :\u001b[39m\u001b[38;5;124m\"\u001b[39m, \u001b[38;5;28mself\u001b[39m\u001b[38;5;241m.\u001b[39mweights\u001b[38;5;241m.\u001b[39mshape)\n\u001b[1;32m     46\u001b[0m     \u001b[38;5;28mself\u001b[39m\u001b[38;5;241m.\u001b[39mbias \u001b[38;5;241m=\u001b[39m nn\u001b[38;5;241m.\u001b[39mParameter(torch\u001b[38;5;241m.\u001b[39mrandn(\u001b[38;5;241m1\u001b[39m, dtype\u001b[38;5;241m=\u001b[39mtorch\u001b[38;5;241m.\u001b[39mfloat), requires_grad\u001b[38;5;241m=\u001b[39m \u001b[38;5;28;01mTrue\u001b[39;00m)\n\u001b[0;32m---> 48\u001b[0m \u001b[38;5;28;01mdef\u001b[39;00m \u001b[38;5;21mforward\u001b[39m(\u001b[38;5;28mself\u001b[39m, x: \u001b[43mtorch\u001b[49m\u001b[38;5;241m.\u001b[39mTensor) \u001b[38;5;241m-\u001b[39m\u001b[38;5;241m>\u001b[39m torch\u001b[38;5;241m.\u001b[39mTensor:\n\u001b[1;32m     49\u001b[0m     \u001b[38;5;28;01mreturn\u001b[39;00m x\u001b[38;5;241m.\u001b[39mmatmul(\u001b[38;5;28mself\u001b[39m\u001b[38;5;241m.\u001b[39mweights) \u001b[38;5;241m+\u001b[39m \u001b[38;5;28mself\u001b[39m\u001b[38;5;241m.\u001b[39mbias\n",
      "\u001b[0;31mNameError\u001b[0m: name 'torch' is not defined"
     ]
    }
   ],
   "source": [
    "#define the true weight array\n",
    "import matplotlib.pyplot as plt\n",
    "import torch\n",
    "import torch.nn as nn\n",
    "import numpy as np\n",
    "\n",
    "trueWeight = np.array([1,2,3,4,5])\n",
    "bias = 0.5\n",
    "\n",
    "def generate():\n",
    "    dataset=[]\n",
    "    for i in range(1000):\n",
    "        x = np.random.randn(len(trueWeight))\n",
    "        y = trueWeight.dot(x) + bias + np.random.randn()\n",
    "        #add the numpy array as is without \n",
    "        dataset.append((x,y))\n",
    "    return dataset\n",
    "\n",
    "def plot_predictions(train_data, train_labels, test_data, test_labels, predictions=None):\n",
    "    plt.figure(figsize=(5,5))\n",
    "\n",
    "    train_data=train_data[:50]\n",
    "    train_labels = train_labels[:50]\n",
    "    test_data = test_data[:50]\n",
    "    test_labels = test_labels[:50]\n",
    "\n",
    "    if predictions is not None:\n",
    "        predictions = predictions[:50]\n",
    "\n",
    "    plt.scatter(train_data[:,0], train_labels, c='b', label='Training Data')\n",
    "    plt.scatter(test_data[:,0], test_labels, c='g', label='Test Data')\n",
    "\n",
    "    if predictions is not None:\n",
    "        plt.scatter(test_data[:,0], predictions, c='r', label='Prediction Data')\n",
    "\n",
    "    plt.title(\"Predictions vs Actual (First 50 Points)\")\n",
    "    plt.xlabel(\"Feature 1\")\n",
    "    plt.ylabel(\"Labels\")\n",
    "    plt.legend(prop={\"size\": 14})\n",
    "    plt.show()\n",
    "\n",
    "class TestLinearRegressionModel(nn.Module):\n",
    "    def __init__(self): \n",
    "        super().__init__()\n",
    "        self.weights = nn.Parameter(torch.randn(len(trueWeight), dtype=torch.float), requires_grad=True)\n",
    "        print(\"Self weights size :\", self.weights.shape)\n",
    "        self.bias = nn.Parameter(torch.randn(1, dtype=torch.float), requires_grad= True)\n",
    "    \n",
    "    def forward(self, x: torch.Tensor) -> torch.Tensor:\n",
    "        return x.matmul(self.weights) + self.bias\n",
    "\n",
    "\n",
    "#plot loss\n",
    "def plotlosscurve(train_loss_values, test_loss_values, epoch_count):\n",
    "    plt.plot(epoch_count, train_loss_values, label=\"Train loss\")\n",
    "    plt.plot(epoch_count, test_loss_values, label=\"Test loss\")\n",
    "    plt.title(\"Training and test loss curves\")\n",
    "    plt.ylabel(\"Loss\")\n",
    "    plt.xlabel(\"Epochs\")\n",
    "    plt.legend();\n",
    "\n",
    "\n",
    "# main routine\n",
    "dataset= generate()\n",
    "\n",
    "x_list, y_list = zip(*dataset)\n",
    "x_tensor = torch.tensor(x_list, dtype= torch.float32)\n",
    "y_tensor = torch.tensor(y_list, dtype= torch.float32)\n",
    "\n",
    "\n",
    "# for i in range(10):\n",
    "#     print (x[i], y[i])\n",
    "# Create *known* parameters\n",
    "# weight = 0.7\n",
    "# bias = 0.3\n",
    "\n",
    "# # Create data\n",
    "# start = 0\n",
    "# end = 1\n",
    "# step = 0.02\n",
    "# X = torch.arange(start, end, step).unsqueeze(dim=1)\n",
    "# y = weight * X + bias +  np.random.randn()\n",
    "\n",
    "train_split = int(0.8* len(x_tensor))\n",
    "x_train, y_train = x_tensor[:train_split], y_tensor[:train_split]\n",
    "x_test, y_test = x_tensor[train_split:], y_tensor[train_split:]\n",
    "\n",
    "print(\"\")\n",
    "len(x_train), len(y_train), len(x_test), len(y_test)\n",
    "\n",
    "print(x_train.shape)\n",
    "print(y_train.shape)\n",
    "\n",
    "#x_tensor = x_tensor.squeeze(1)\n",
    "\n",
    "print(x_test.shape)\n",
    "print(y_test.shape)\n",
    "\n",
    "#plot_predictions(x_train, y_train, x_test, y_test)\n",
    "\n",
    "torch.manual_seed(42)\n",
    "model_0 = TestLinearRegressionModel()\n",
    "list(model_0.parameters())\n",
    "model_0.state_dict()\n",
    "\n",
    "with torch.inference_mode():\n",
    "    y_preds = model_0(x_test)\n",
    "\n",
    "print(\"prediction vector shapes\", y_preds.shape)\n",
    "#print(y_preds)\n",
    "\n",
    "print(\"Before training..\")\n",
    "plot_predictions(x_train, y_train, x_test, y_test, y_preds)\n",
    "\n",
    "#define the loss function\n",
    "loss_fn = nn.L1Loss()\n",
    "\n",
    "#Create the optimizer\n",
    "optimizer = torch.optim.SGD(params=model_0.parameters(), lr=0.01)\n",
    "\n",
    "#number of epochs\n",
    "epochs =2000\n",
    "\n",
    "#create empty training and test loss vectors\n",
    "train_loss_values = []\n",
    "test_loss_values=[]\n",
    "epoch_count=[]\n",
    "\n",
    "for epoch in range(epochs):\n",
    "\n",
    "    #put the model in a training mode\n",
    "    model_0.train()\n",
    "    y_pred = model_0(x_train)\n",
    "    loss = loss_fn(y_pred, y_train)\n",
    "    optimizer.zero_grad()\n",
    "    loss.backward()\n",
    "    optimizer.step()\n",
    "\n",
    "    #set to eval mode\n",
    "    model_0.eval()\n",
    "\n",
    "    with torch.inference_mode():\n",
    "        test_pred = model_0(x_test)\n",
    "        test_loss = loss_fn(test_pred, y_test.type(torch.float))\n",
    "\n",
    "        if epoch % 10 == 0:\n",
    "            epoch_count.append(epoch)\n",
    "            train_loss_values.append(loss.detach().numpy())\n",
    "            test_loss_values.append(test_loss.detach().numpy())\n",
    "            print(f\"Epoch: {epoch} | MAE Train Loss: {loss} | MAE Test Loss: {test_loss} \")\n",
    "            # Print model parameters\n",
    "            for name, param in model_0.named_parameters():\n",
    "                if param.requires_grad:\n",
    "                    print(f\"Parameter {name}: {param.data}\")\n",
    "\n",
    "\n",
    "print(f\"After training for {epoch} iterations\")\n",
    "plot_predictions(x_train, y_train, x_test, y_test, test_pred)\n",
    "plotlosscurve(train_loss_values, test_loss_values, epoch_count)\n",
    "\n",
    "from pathlib import Path\n",
    "\n",
    "MODEL_PATH = Path(\"models\")\n",
    "MODEL_PATH.mkdir(parents=True, exist_ok=True)\n",
    "MODEL_NAME = \"01_pytorch_workflow_model_0.pth\"\n",
    "MODEL_SAVE_PATH = MODEL_PATH/MODEL_NAME\n",
    "\n",
    "# 3. Save the model state dict \n",
    "print(f\"Saving model to: {MODEL_SAVE_PATH}\")\n",
    "torch.save(obj=model_0.state_dict(), # only saving the state_dict() only saves the models learned parameters\n",
    "           f=MODEL_SAVE_PATH)\n",
    "\n",
    "\n",
    "\n",
    "\n"
   ]
  }
 ],
 "metadata": {
  "kernelspec": {
   "display_name": "Python 3",
   "language": "python",
   "name": "python3"
  },
  "language_info": {
   "codemirror_mode": {
    "name": "ipython",
    "version": 3
   },
   "file_extension": ".py",
   "mimetype": "text/x-python",
   "name": "python",
   "nbconvert_exporter": "python",
   "pygments_lexer": "ipython3",
   "version": "3.10.5"
  }
 },
 "nbformat": 4,
 "nbformat_minor": 2
}
