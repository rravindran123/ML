{
 "cells": [
  {
   "cell_type": "code",
   "execution_count": 2,
   "metadata": {},
   "outputs": [
    {
     "name": "stdout",
     "output_type": "stream",
     "text": [
      "Requirement already satisfied: tensorflow in /home/ubuntu/.pyenv/versions/3.10.5/envs/jupyter3.10.5/lib/python3.10/site-packages (2.17.0)\n",
      "Requirement already satisfied: absl-py>=1.0.0 in /home/ubuntu/.pyenv/versions/3.10.5/envs/jupyter3.10.5/lib/python3.10/site-packages (from tensorflow) (2.1.0)\n",
      "Requirement already satisfied: astunparse>=1.6.0 in /home/ubuntu/.pyenv/versions/3.10.5/envs/jupyter3.10.5/lib/python3.10/site-packages (from tensorflow) (1.6.3)\n",
      "Requirement already satisfied: flatbuffers>=24.3.25 in /home/ubuntu/.pyenv/versions/3.10.5/envs/jupyter3.10.5/lib/python3.10/site-packages (from tensorflow) (24.3.25)\n",
      "Requirement already satisfied: gast!=0.5.0,!=0.5.1,!=0.5.2,>=0.2.1 in /home/ubuntu/.pyenv/versions/3.10.5/envs/jupyter3.10.5/lib/python3.10/site-packages (from tensorflow) (0.6.0)\n",
      "Requirement already satisfied: google-pasta>=0.1.1 in /home/ubuntu/.pyenv/versions/3.10.5/envs/jupyter3.10.5/lib/python3.10/site-packages (from tensorflow) (0.2.0)\n",
      "Requirement already satisfied: h5py>=3.10.0 in /home/ubuntu/.pyenv/versions/3.10.5/envs/jupyter3.10.5/lib/python3.10/site-packages (from tensorflow) (3.11.0)\n",
      "Requirement already satisfied: libclang>=13.0.0 in /home/ubuntu/.pyenv/versions/3.10.5/envs/jupyter3.10.5/lib/python3.10/site-packages (from tensorflow) (18.1.1)\n",
      "Requirement already satisfied: ml-dtypes<0.5.0,>=0.3.1 in /home/ubuntu/.pyenv/versions/3.10.5/envs/jupyter3.10.5/lib/python3.10/site-packages (from tensorflow) (0.4.0)\n",
      "Requirement already satisfied: opt-einsum>=2.3.2 in /home/ubuntu/.pyenv/versions/3.10.5/envs/jupyter3.10.5/lib/python3.10/site-packages (from tensorflow) (3.3.0)\n",
      "Requirement already satisfied: packaging in /home/ubuntu/.pyenv/versions/3.10.5/envs/jupyter3.10.5/lib/python3.10/site-packages (from tensorflow) (24.1)\n",
      "Requirement already satisfied: protobuf!=4.21.0,!=4.21.1,!=4.21.2,!=4.21.3,!=4.21.4,!=4.21.5,<5.0.0dev,>=3.20.3 in /home/ubuntu/.pyenv/versions/3.10.5/envs/jupyter3.10.5/lib/python3.10/site-packages (from tensorflow) (4.25.4)\n",
      "Requirement already satisfied: requests<3,>=2.21.0 in /home/ubuntu/.pyenv/versions/3.10.5/envs/jupyter3.10.5/lib/python3.10/site-packages (from tensorflow) (2.32.3)\n",
      "Requirement already satisfied: setuptools in /home/ubuntu/.pyenv/versions/3.10.5/envs/jupyter3.10.5/lib/python3.10/site-packages (from tensorflow) (58.1.0)\n",
      "Requirement already satisfied: six>=1.12.0 in /home/ubuntu/.pyenv/versions/3.10.5/envs/jupyter3.10.5/lib/python3.10/site-packages (from tensorflow) (1.16.0)\n",
      "Requirement already satisfied: termcolor>=1.1.0 in /home/ubuntu/.pyenv/versions/3.10.5/envs/jupyter3.10.5/lib/python3.10/site-packages (from tensorflow) (2.4.0)\n",
      "Requirement already satisfied: typing-extensions>=3.6.6 in /home/ubuntu/.pyenv/versions/3.10.5/envs/jupyter3.10.5/lib/python3.10/site-packages (from tensorflow) (4.12.2)\n",
      "Requirement already satisfied: wrapt>=1.11.0 in /home/ubuntu/.pyenv/versions/3.10.5/envs/jupyter3.10.5/lib/python3.10/site-packages (from tensorflow) (1.16.0)\n",
      "Requirement already satisfied: grpcio<2.0,>=1.24.3 in /home/ubuntu/.pyenv/versions/3.10.5/envs/jupyter3.10.5/lib/python3.10/site-packages (from tensorflow) (1.65.4)\n",
      "Requirement already satisfied: tensorboard<2.18,>=2.17 in /home/ubuntu/.pyenv/versions/3.10.5/envs/jupyter3.10.5/lib/python3.10/site-packages (from tensorflow) (2.17.0)\n",
      "Requirement already satisfied: keras>=3.2.0 in /home/ubuntu/.pyenv/versions/3.10.5/envs/jupyter3.10.5/lib/python3.10/site-packages (from tensorflow) (3.4.1)\n",
      "Requirement already satisfied: tensorflow-io-gcs-filesystem>=0.23.1 in /home/ubuntu/.pyenv/versions/3.10.5/envs/jupyter3.10.5/lib/python3.10/site-packages (from tensorflow) (0.37.1)\n",
      "Requirement already satisfied: numpy<2.0.0,>=1.23.5 in /home/ubuntu/.pyenv/versions/3.10.5/envs/jupyter3.10.5/lib/python3.10/site-packages (from tensorflow) (1.26.4)\n",
      "Requirement already satisfied: wheel<1.0,>=0.23.0 in /home/ubuntu/.pyenv/versions/3.10.5/envs/jupyter3.10.5/lib/python3.10/site-packages (from astunparse>=1.6.0->tensorflow) (0.44.0)\n",
      "Requirement already satisfied: rich in /home/ubuntu/.pyenv/versions/3.10.5/envs/jupyter3.10.5/lib/python3.10/site-packages (from keras>=3.2.0->tensorflow) (13.7.1)\n",
      "Requirement already satisfied: namex in /home/ubuntu/.pyenv/versions/3.10.5/envs/jupyter3.10.5/lib/python3.10/site-packages (from keras>=3.2.0->tensorflow) (0.0.8)\n",
      "Requirement already satisfied: optree in /home/ubuntu/.pyenv/versions/3.10.5/envs/jupyter3.10.5/lib/python3.10/site-packages (from keras>=3.2.0->tensorflow) (0.12.1)\n",
      "Requirement already satisfied: charset-normalizer<4,>=2 in /home/ubuntu/.pyenv/versions/3.10.5/envs/jupyter3.10.5/lib/python3.10/site-packages (from requests<3,>=2.21.0->tensorflow) (3.3.2)\n",
      "Requirement already satisfied: idna<4,>=2.5 in /home/ubuntu/.pyenv/versions/3.10.5/envs/jupyter3.10.5/lib/python3.10/site-packages (from requests<3,>=2.21.0->tensorflow) (3.7)\n",
      "Requirement already satisfied: urllib3<3,>=1.21.1 in /home/ubuntu/.pyenv/versions/3.10.5/envs/jupyter3.10.5/lib/python3.10/site-packages (from requests<3,>=2.21.0->tensorflow) (2.2.2)\n",
      "Requirement already satisfied: certifi>=2017.4.17 in /home/ubuntu/.pyenv/versions/3.10.5/envs/jupyter3.10.5/lib/python3.10/site-packages (from requests<3,>=2.21.0->tensorflow) (2024.7.4)\n",
      "Requirement already satisfied: markdown>=2.6.8 in /home/ubuntu/.pyenv/versions/3.10.5/envs/jupyter3.10.5/lib/python3.10/site-packages (from tensorboard<2.18,>=2.17->tensorflow) (3.6)\n",
      "Requirement already satisfied: tensorboard-data-server<0.8.0,>=0.7.0 in /home/ubuntu/.pyenv/versions/3.10.5/envs/jupyter3.10.5/lib/python3.10/site-packages (from tensorboard<2.18,>=2.17->tensorflow) (0.7.2)\n",
      "Requirement already satisfied: werkzeug>=1.0.1 in /home/ubuntu/.pyenv/versions/3.10.5/envs/jupyter3.10.5/lib/python3.10/site-packages (from tensorboard<2.18,>=2.17->tensorflow) (3.0.3)\n",
      "Requirement already satisfied: MarkupSafe>=2.1.1 in /home/ubuntu/.pyenv/versions/3.10.5/envs/jupyter3.10.5/lib/python3.10/site-packages (from werkzeug>=1.0.1->tensorboard<2.18,>=2.17->tensorflow) (2.1.5)\n",
      "Requirement already satisfied: markdown-it-py>=2.2.0 in /home/ubuntu/.pyenv/versions/3.10.5/envs/jupyter3.10.5/lib/python3.10/site-packages (from rich->keras>=3.2.0->tensorflow) (3.0.0)\n",
      "Requirement already satisfied: pygments<3.0.0,>=2.13.0 in /home/ubuntu/.pyenv/versions/3.10.5/envs/jupyter3.10.5/lib/python3.10/site-packages (from rich->keras>=3.2.0->tensorflow) (2.18.0)\n",
      "Requirement already satisfied: mdurl~=0.1 in /home/ubuntu/.pyenv/versions/3.10.5/envs/jupyter3.10.5/lib/python3.10/site-packages (from markdown-it-py>=2.2.0->rich->keras>=3.2.0->tensorflow) (0.1.2)\n"
     ]
    }
   ],
   "source": [
    "!pip install -q -U keras-nlp\n",
    "!pip install -q -U \"keras>=3\"\n",
    "!pip install tensorflow"
   ]
  },
  {
   "cell_type": "code",
   "execution_count": 3,
   "metadata": {},
   "outputs": [],
   "source": [
    "import os\n",
    "\n",
    "os.environ[\"KERAS_BACKEND\"] = \"jax\"  # Or \"tensorflow\" or \"torch\".\n",
    "os.environ[\"XLA_PYTHON_CLIENT_MEM_FRACTION\"] = \"0.9\""
   ]
  },
  {
   "cell_type": "code",
   "execution_count": 4,
   "metadata": {},
   "outputs": [],
   "source": [
    "import keras\n",
    "import keras_nlp\n",
    "import os\n",
    "#from tensorflow.keras.utils import get_file\n",
    "\n",
    "# This is a dummy call to see where files might be downloaded\n",
    "# You don't need to run this with a real URL, it's just for demonstration\n",
    "#path = get_file('dummy_model', origin='https://example.com/dummy_model.h5', cache_subdir='models')\n",
    "#print(os.path.dirname(path))"
   ]
  },
  {
   "cell_type": "code",
   "execution_count": 6,
   "metadata": {},
   "outputs": [],
   "source": [
    "#export KAGGLE_USERNAME=raviravindran\n",
    "#export KAGGLE_KEY=31715b36fb6c26b555ad2640b1a59f5c\n",
    "#pip install -q -U  tensorflow-text\n",
    "import tensorflow_text as tf_text\n",
    "gemma_lm = keras_nlp.models.GemmaCausalLM.from_preset(\"gemma2_instruct_2b_en\")\n"
   ]
  },
  {
   "cell_type": "code",
   "execution_count": 7,
   "metadata": {},
   "outputs": [
    {
     "name": "stderr",
     "output_type": "stream",
     "text": [
      "WARNING: All log messages before absl::InitializeLog() is called are written to STDERR\n",
      "I0000 00:00:1723487754.786218   19875 service.cc:146] XLA service 0x7faec6d514a0 initialized for platform Host (this does not guarantee that XLA will be used). Devices:\n",
      "I0000 00:00:1723487754.786408   19875 service.cc:154]   StreamExecutor device (0): Host, Default Version\n",
      "I0000 00:00:1723487757.506515   19875 device_compiler.h:188] Compiled cluster using XLA!  This line is logged at most once for the lifetime of the process.\n"
     ]
    },
    {
     "data": {
      "text/plain": [
       "['Keras is a high-level deep learning API that runs on top of TensorFlow, Theano, or CNTK. It provides a user-',\n",
       " 'I want to say thank you to the people who helped me through the tough times.\\n\\nI want to express my gratitude to those who stood by']"
      ]
     },
     "execution_count": 7,
     "metadata": {},
     "output_type": "execute_result"
    }
   ],
   "source": [
    "start_of_turn_user = \"<start_of_turn>user\\n\"\n",
    "start_of_turn_model = \"<start_of_turn>model\\n\"\n",
    "end_of_turn = \"<end_of_turn>\\n\"\n",
    "prompt = start_of_turn_user + \"You are a friendly assistant. Say hi.\" + \\\n",
    "    end_of_turn + start_of_turn_model\n",
    "gemma_lm.generate(prompt, max_length=30)\n",
    "\n",
    "# Generate with batched prompts.\n",
    "gemma_lm.generate([\"Keras is a\", \"I want to say\"], max_length=30)"
   ]
  },
  {
   "cell_type": "code",
   "execution_count": 8,
   "metadata": {},
   "outputs": [
    {
     "data": {
      "text/plain": [
       "\"I want to say thank you to all the people who have helped me in my life. \\n\\nI'm so grateful for all the love\""
      ]
     },
     "execution_count": 8,
     "metadata": {},
     "output_type": "execute_result"
    }
   ],
   "source": [
    "gemma_lm = keras_nlp.models.GemmaCausalLM.from_preset(\"gemma2_instruct_2b_en\")\n",
    "gemma_lm.compile(sampler=\"top_k\")\n",
    "gemma_lm.generate(\"I want to say\", max_length=30)\n",
    "\n",
    "gemma_lm.compile(sampler=keras_nlp.samplers.BeamSampler(num_beams=2))\n",
    "gemma_lm.generate(\"I want to say\", max_length=30)"
   ]
  }
 ],
 "metadata": {
  "kernelspec": {
   "display_name": "Python 3",
   "language": "python",
   "name": "python3"
  },
  "language_info": {
   "codemirror_mode": {
    "name": "ipython",
    "version": 3
   },
   "file_extension": ".py",
   "mimetype": "text/x-python",
   "name": "python",
   "nbconvert_exporter": "python",
   "pygments_lexer": "ipython3",
   "version": "3.10.5"
  }
 },
 "nbformat": 4,
 "nbformat_minor": 2
}
